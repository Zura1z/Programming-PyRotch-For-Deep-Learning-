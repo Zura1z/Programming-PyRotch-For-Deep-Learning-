{
 "cells": [
  {
   "cell_type": "code",
   "execution_count": 1,
   "metadata": {
    "_cell_guid": "b1076dfc-b9ad-4769-8c92-a6c4dae69d19",
    "_uuid": "8f2839f25d086af736a60e9eeb907d3b93b6e0e5",
    "execution": {
     "iopub.execute_input": "2021-11-11T18:08:45.382636Z",
     "iopub.status.busy": "2021-11-11T18:08:45.382253Z",
     "iopub.status.idle": "2021-11-11T18:08:46.123954Z",
     "shell.execute_reply": "2021-11-11T18:08:46.123225Z",
     "shell.execute_reply.started": "2021-11-11T18:08:45.382545Z"
    }
   },
   "outputs": [],
   "source": [
    "# This Python 3 environment comes with many helpful analytics libraries installed\n",
    "# It is defined by the kaggle/python Docker image: https://github.com/kaggle/docker-python\n",
    "# For example, here's several helpful packages to load\n",
    "\n",
    "import numpy as np # linear algebra\n",
    "import pandas as pd # data processing, CSV file I/O (e.g. pd.read_csv)\n",
    "\n",
    "# Input data files are available in the read-only \"../input/\" directory\n",
    "# For example, running this (by clicking run or pressing Shift+Enter) will list all files under the input directory\n",
    "\n",
    "import os\n",
    "for dirname, _, filenames in os.walk('/kaggle/input'):\n",
    "    for filename in filenames:\n",
    "        print(os.path.join(dirname, filename))\n",
    "\n",
    "# You can write up to 20GB to the current directory (/kaggle/working/) that gets preserved as output when you create a version using \"Save & Run All\" \n",
    "# You can also write temporary files to /kaggle/temp/, but they won't be saved outside of the current session"
   ]
  },
  {
   "cell_type": "code",
   "execution_count": 36,
   "metadata": {
    "execution": {
     "iopub.execute_input": "2021-11-11T18:24:36.509346Z",
     "iopub.status.busy": "2021-11-11T18:24:36.508531Z",
     "iopub.status.idle": "2021-11-11T18:24:36.513237Z",
     "shell.execute_reply": "2021-11-11T18:24:36.512454Z",
     "shell.execute_reply.started": "2021-11-11T18:24:36.509312Z"
    }
   },
   "outputs": [],
   "source": [
    "import torch \n",
    "#from torchvision import transforms\n",
    "import torchvision as t\n",
    "#import transforms\n",
    "from torch.utils import data\n"
   ]
  },
  {
   "cell_type": "code",
   "execution_count": 31,
   "metadata": {
    "execution": {
     "iopub.execute_input": "2021-11-11T18:23:56.112743Z",
     "iopub.status.busy": "2021-11-11T18:23:56.112437Z",
     "iopub.status.idle": "2021-11-11T18:23:56.116639Z",
     "shell.execute_reply": "2021-11-11T18:23:56.115751Z",
     "shell.execute_reply.started": "2021-11-11T18:23:56.112711Z"
    }
   },
   "outputs": [],
   "source": [
    "train_data_path = \"../input/fish-vs-cats-imagenet-subdataset/Fish-vs-Cats/train/\"\n",
    "val_data_path = \"../input/fish-vs-cats-imagenet-subdataset/Fish-vs-Cats/val/\"\n",
    "test_data_path = \"../input/fish-vs-cats-imagenet-subdataset/Fish-vs-Cats/test/\"\n"
   ]
  },
  {
   "cell_type": "code",
   "execution_count": 32,
   "metadata": {
    "execution": {
     "iopub.execute_input": "2021-11-11T18:23:58.105444Z",
     "iopub.status.busy": "2021-11-11T18:23:58.105161Z",
     "iopub.status.idle": "2021-11-11T18:23:58.110853Z",
     "shell.execute_reply": "2021-11-11T18:23:58.109733Z",
     "shell.execute_reply.started": "2021-11-11T18:23:58.105408Z"
    }
   },
   "outputs": [],
   "source": [
    "transforms = t.transforms.Compose([t.transforms.Resize(64),t.transforms.ToTensor(),t.transforms.Normalize(mean=[0.485,0.456,0.406],std=[0.229,0.224,0.225])])\n"
   ]
  },
  {
   "cell_type": "code",
   "execution_count": 33,
   "metadata": {
    "execution": {
     "iopub.execute_input": "2021-11-11T18:24:00.873557Z",
     "iopub.status.busy": "2021-11-11T18:24:00.872713Z",
     "iopub.status.idle": "2021-11-11T18:24:00.892119Z",
     "shell.execute_reply": "2021-11-11T18:24:00.891348Z",
     "shell.execute_reply.started": "2021-11-11T18:24:00.873518Z"
    }
   },
   "outputs": [],
   "source": [
    "train_data = t.datasets.ImageFolder(root=train_data_path,transform=transforms)"
   ]
  },
  {
   "cell_type": "code",
   "execution_count": 34,
   "metadata": {
    "execution": {
     "iopub.execute_input": "2021-11-11T18:24:18.125838Z",
     "iopub.status.busy": "2021-11-11T18:24:18.125542Z",
     "iopub.status.idle": "2021-11-11T18:24:18.135855Z",
     "shell.execute_reply": "2021-11-11T18:24:18.134979Z",
     "shell.execute_reply.started": "2021-11-11T18:24:18.125806Z"
    }
   },
   "outputs": [],
   "source": [
    "val_data = t.datasets.ImageFolder(root=val_data_path,transform=transforms)"
   ]
  },
  {
   "cell_type": "code",
   "execution_count": 35,
   "metadata": {
    "execution": {
     "iopub.execute_input": "2021-11-11T18:24:25.632902Z",
     "iopub.status.busy": "2021-11-11T18:24:25.632627Z",
     "iopub.status.idle": "2021-11-11T18:24:25.645051Z",
     "shell.execute_reply": "2021-11-11T18:24:25.644144Z",
     "shell.execute_reply.started": "2021-11-11T18:24:25.632873Z"
    }
   },
   "outputs": [],
   "source": [
    "test_data = t.datasets.ImageFolder(root=test_data_path,transform=transforms)"
   ]
  },
  {
   "cell_type": "code",
   "execution_count": 37,
   "metadata": {
    "execution": {
     "iopub.execute_input": "2021-11-11T18:24:47.620502Z",
     "iopub.status.busy": "2021-11-11T18:24:47.619854Z",
     "iopub.status.idle": "2021-11-11T18:24:47.626268Z",
     "shell.execute_reply": "2021-11-11T18:24:47.625624Z",
     "shell.execute_reply.started": "2021-11-11T18:24:47.620453Z"
    }
   },
   "outputs": [],
   "source": [
    "batch_size = 64\n",
    "train_data_loader = data.DataLoader(train_data, batch_size=batch_size)\n",
    "val_data_loader = data.DataLoader(val_data, batch_size=batch_size)\n",
    "test_data_loader = data.DataLoader(test_data,batch_size=batch_size)"
   ]
  },
  {
   "cell_type": "code",
   "execution_count": null,
   "metadata": {},
   "outputs": [],
   "source": []
  }
 ],
 "metadata": {
  "kernelspec": {
   "display_name": "Python 3",
   "language": "python",
   "name": "python3"
  },
  "language_info": {
   "codemirror_mode": {
    "name": "ipython",
    "version": 3
   },
   "file_extension": ".py",
   "mimetype": "text/x-python",
   "name": "python",
   "nbconvert_exporter": "python",
   "pygments_lexer": "ipython3",
   "version": "3.8.8"
  }
 },
 "nbformat": 4,
 "nbformat_minor": 4
}
