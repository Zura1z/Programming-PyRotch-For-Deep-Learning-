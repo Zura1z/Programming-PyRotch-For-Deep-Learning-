{
  "nbformat": 4,
  "nbformat_minor": 0,
  "metadata": {
    "colab": {
      "name": "Chapter 2: Image Classification Using PyTorch.ipynb",
      "provenance": []
    },
    "kernelspec": {
      "name": "python3",
      "display_name": "Python 3"
    },
    "language_info": {
      "name": "python"
    },
    "accelerator": "GPU"
  },
  "cells": [
    {
      "cell_type": "code",
      "metadata": {
        "id": "3VxE61O2ZzJy"
      },
      "source": [
        "#Day 1\n",
        "import torch as t\n"
      ],
      "execution_count": 1,
      "outputs": []
    },
    {
      "cell_type": "code",
      "metadata": {
        "colab": {
          "base_uri": "https://localhost:8080/"
        },
        "id": "Hr62HllGaobk",
        "outputId": "ce7a8d9d-f103-4c8b-bf58-3b297ec4b3d9"
      },
      "source": [
        "#Tensors\n",
        "#Creating tensor of rank 2 random values by using torch.rand()\n",
        "x=t.tensor([[0,0,1],[1,1,1],[0,0,0]])\n",
        "x"
      ],
      "execution_count": 2,
      "outputs": [
        {
          "output_type": "execute_result",
          "data": {
            "text/plain": [
              "tensor([[0, 0, 1],\n",
              "        [1, 1, 1],\n",
              "        [0, 0, 0]])"
            ]
          },
          "metadata": {},
          "execution_count": 2
        }
      ]
    },
    {
      "cell_type": "code",
      "metadata": {
        "colab": {
          "base_uri": "https://localhost:8080/"
        },
        "id": "bVecMPLaa9as",
        "outputId": "b2230462-986b-42de-c8ff-67fdeaefe383"
      },
      "source": [
        "#Zeros and ones\n",
        "t.zeros(2,2)"
      ],
      "execution_count": 3,
      "outputs": [
        {
          "output_type": "execute_result",
          "data": {
            "text/plain": [
              "tensor([[0., 0.],\n",
              "        [0., 0.]])"
            ]
          },
          "metadata": {},
          "execution_count": 3
        }
      ]
    },
    {
      "cell_type": "code",
      "metadata": {
        "colab": {
          "base_uri": "https://localhost:8080/"
        },
        "id": "EYbuxo21bS2C",
        "outputId": "524648ba-d791-49ed-e456-42e71b81bffd"
      },
      "source": [
        "#Can perform methematical operaitons with tensors\n",
        "t.ones(1,2) + t.ones(1,2)"
      ],
      "execution_count": 4,
      "outputs": [
        {
          "output_type": "execute_result",
          "data": {
            "text/plain": [
              "tensor([[2., 2.]])"
            ]
          },
          "metadata": {},
          "execution_count": 4
        }
      ]
    },
    {
      "cell_type": "code",
      "metadata": {
        "colab": {
          "base_uri": "https://localhost:8080/"
        },
        "id": "p91cJ1Ihcakr",
        "outputId": "0c95ddb0-5557-4ef3-fc40-7b1d48fc6305"
      },
      "source": [
        "# Pulling value using item()\n",
        "t.rand(1).item()"
      ],
      "execution_count": 5,
      "outputs": [
        {
          "output_type": "execute_result",
          "data": {
            "text/plain": [
              "0.6895507574081421"
            ]
          },
          "metadata": {},
          "execution_count": 5
        }
      ]
    },
    {
      "cell_type": "code",
      "metadata": {
        "colab": {
          "base_uri": "https://localhost:8080/"
        },
        "id": "T-ODaiK_erUT",
        "outputId": "48dbed45-f3de-4e0b-fa8c-74bdc221c6f9"
      },
      "source": [
        "#Tensors can live in the CPU or on the GPU and can be copies between devices by the to() function()\n",
        "cpu_tensor = t.rand(2)\n",
        "cpu_tensor.device"
      ],
      "execution_count": 6,
      "outputs": [
        {
          "output_type": "execute_result",
          "data": {
            "text/plain": [
              "device(type='cpu')"
            ]
          },
          "metadata": {},
          "execution_count": 6
        }
      ]
    },
    {
      "cell_type": "code",
      "metadata": {
        "colab": {
          "base_uri": "https://localhost:8080/"
        },
        "id": "RoJi97cWepHr",
        "outputId": "d3c93612-c4bb-48d4-c868-7f64731e53ad"
      },
      "source": [
        "gpu_tensor = cpu_tensor.to('cuda')\n",
        "gpu_tensor.device"
      ],
      "execution_count": 7,
      "outputs": [
        {
          "output_type": "execute_result",
          "data": {
            "text/plain": [
              "device(type='cuda', index=0)"
            ]
          },
          "metadata": {},
          "execution_count": 7
        }
      ]
    },
    {
      "cell_type": "code",
      "metadata": {
        "colab": {
          "base_uri": "https://localhost:8080/"
        },
        "id": "fiQ7lu_Gfqdj",
        "outputId": "d4657223-baee-4e4c-9e22-0a6eeb96d1d7"
      },
      "source": [
        "#Day 2\n",
        "#Tensor Operations\n",
        "t.rand(2,2).max()"
      ],
      "execution_count": 12,
      "outputs": [
        {
          "output_type": "execute_result",
          "data": {
            "text/plain": [
              "tensor(0.9295)"
            ]
          },
          "metadata": {},
          "execution_count": 12
        }
      ]
    },
    {
      "cell_type": "code",
      "metadata": {
        "colab": {
          "base_uri": "https://localhost:8080/"
        },
        "id": "b-xRxAtJhaqL",
        "outputId": "f321b426-9613-4c20-d54f-e647b2c4c2d5"
      },
      "source": [
        "t.rand(2,2).max().item()"
      ],
      "execution_count": 13,
      "outputs": [
        {
          "output_type": "execute_result",
          "data": {
            "text/plain": [
              "0.998210072517395"
            ]
          },
          "metadata": {},
          "execution_count": 13
        }
      ]
    },
    {
      "cell_type": "code",
      "metadata": {
        "colab": {
          "base_uri": "https://localhost:8080/",
          "height": 35
        },
        "id": "JPEYAhTPheI6",
        "outputId": "b1c28c16-8a4a-4b9a-f80a-b288cefa87d2"
      },
      "source": [
        "long_tensor = t.tensor([[0,0,1],[1,1,1],[0,0,0]])\n",
        "long_tensor.type()"
      ],
      "execution_count": 14,
      "outputs": [
        {
          "output_type": "execute_result",
          "data": {
            "application/vnd.google.colaboratory.intrinsic+json": {
              "type": "string"
            },
            "text/plain": [
              "'torch.LongTensor'"
            ]
          },
          "metadata": {},
          "execution_count": 14
        }
      ]
    },
    {
      "cell_type": "code",
      "metadata": {
        "colab": {
          "base_uri": "https://localhost:8080/",
          "height": 35
        },
        "id": "w1DceTrMhnkq",
        "outputId": "46d3b05c-eb5d-4a9b-e0f7-18bcfb9ec25c"
      },
      "source": [
        "float_tensor = t.tensor([[0,0,1],[1,1,1],[0,0,0]]).to(dtype=t.float32)\n",
        "float_tensor.type()"
      ],
      "execution_count": 16,
      "outputs": [
        {
          "output_type": "execute_result",
          "data": {
            "application/vnd.google.colaboratory.intrinsic+json": {
              "type": "string"
            },
            "text/plain": [
              "'torch.FloatTensor'"
            ]
          },
          "metadata": {},
          "execution_count": 16
        }
      ]
    },
    {
      "cell_type": "code",
      "metadata": {
        "colab": {
          "base_uri": "https://localhost:8080/"
        },
        "id": "0QZCX5EFh1zc",
        "outputId": "60a429ec-767f-4fd3-a896-8734d0a0419a"
      },
      "source": [
        "#Reshaping from 784 to 1*28*28\n",
        "flat_tensor = t.rand(784)\n",
        "new_tensor = flat_tensor.reshape(1,28,28)\n",
        "new_tensor.shape"
      ],
      "execution_count": 19,
      "outputs": [
        {
          "output_type": "execute_result",
          "data": {
            "text/plain": [
              "torch.Size([1, 28, 28])"
            ]
          },
          "metadata": {},
          "execution_count": 19
        }
      ]
    },
    {
      "cell_type": "code",
      "metadata": {
        "colab": {
          "base_uri": "https://localhost:8080/"
        },
        "id": "m0GA40mdj2ei",
        "outputId": "f25f9e9d-59c5-4ac3-abd4-45e870a8d81e"
      },
      "source": [
        "#chaging indexes\n",
        "hwc_tensor = t.rand(640,480,3)\n",
        "chw_tensor = hwc_tensor.permute(2,0,1)\n",
        "chw_tensor.shape"
      ],
      "execution_count": 24,
      "outputs": [
        {
          "output_type": "execute_result",
          "data": {
            "text/plain": [
              "torch.Size([3, 640, 480])"
            ]
          },
          "metadata": {},
          "execution_count": 24
        }
      ]
    },
    {
      "cell_type": "code",
      "metadata": {
        "id": "CvT9K996kBOa"
      },
      "source": [
        ""
      ],
      "execution_count": null,
      "outputs": []
    }
  ]
}