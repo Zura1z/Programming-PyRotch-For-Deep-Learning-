{
 "cells": [
  {
   "cell_type": "code",
   "execution_count": 2,
   "id": "df73ce87",
   "metadata": {},
   "outputs": [],
   "source": [
    "import torch"
   ]
  },
  {
   "cell_type": "code",
   "execution_count": 3,
   "id": "10b46169",
   "metadata": {},
   "outputs": [
    {
     "name": "stdout",
     "output_type": "stream",
     "text": [
      "Error: can't find images.csv!\n"
     ]
    },
    {
     "ename": "SystemExit",
     "evalue": "0",
     "output_type": "error",
     "traceback": [
      "An exception has occurred, use %tb to see the full traceback.\n",
      "\u001b[1;31mSystemExit\u001b[0m\u001b[1;31m:\u001b[0m 0\n"
     ]
    },
    {
     "name": "stderr",
     "output_type": "stream",
     "text": [
      "C:\\Users\\Zuraiz\\anaconda3\\lib\\site-packages\\IPython\\core\\interactiveshell.py:3445: UserWarning: To exit: use 'exit', 'quit', or Ctrl-D.\n",
      "  warn(\"To exit: use 'exit', 'quit', or Ctrl-D.\", stacklevel=1)\n"
     ]
    }
   ],
   "source": [
    "import os\n",
    "import sys\n",
    "import urllib3\n",
    "from urllib.parse import urlparse\n",
    "import pandas as pd\n",
    "import itertools\n",
    "import shutil\n",
    "\n",
    "from urllib3.util import Retry\n",
    "\n",
    "urllib3.disable_warnings(urllib3.exceptions.InsecureRequestWarning)\n",
    "\n",
    "classes = [\"cat\", \"fish\"]\n",
    "set_types = [\"train\", \"test\", \"val\"]\n",
    "\n",
    "def download_image(url, klass, data_type):\n",
    "    basename = os.path.basename(urlparse(url).path)\n",
    "    filename = \"{}/{}/{}\".format(data_type, klass, basename)\n",
    "    if not os.path.exists(filename):\n",
    "        try: \n",
    "            http = urllib3.PoolManager(retries=Retry(connect=1, read=1, redirect=2))\n",
    "            with http.request(\"GET\", url, preload_content=False) as resp, open(\n",
    "                filename, \"wb\"\n",
    "            ) as out_file:\n",
    "                if resp.status == 200:\n",
    "                    shutil.copyfileobj(resp, out_file)\n",
    "                else:\n",
    "                    print(\"Error downloading {}\".format(url))\n",
    "            resp.release_conn()\n",
    "        except:\n",
    "            print(\"Error downloading {}\".format(url))\n",
    "\n",
    "\n",
    "if __name__ == \"__main__\":\n",
    "    if not os.path.exists(\"images.csv\"):\n",
    "        print(\"Error: can't find images.csv!\")\n",
    "        sys.exit(0)\n",
    "\n",
    "    # get args and create output directory\n",
    "    imagesDF = pd.read_csv(\"images.csv\")\n",
    "\n",
    "    for set_type, klass in list(itertools.product(set_types, classes)):\n",
    "        path = \"./{}/{}\".format(set_type, klass)\n",
    "        if not os.path.exists(path):\n",
    "            print(\"Creating directory {}\".format(path))\n",
    "            os.makedirs(path)\n",
    "\n",
    "    print(\"Downloading {} images\".format(len(imagesDF)))\n",
    "\n",
    "    result = [\n",
    "        download_image(url, klass, data_type)\n",
    "        for url, klass, data_type in zip(\n",
    "            imagesDF[\"url\"], imagesDF[\"class\"], imagesDF[\"type\"]\n",
    "        )\n",
    "    ]\n",
    "    sys.exit(0)"
   ]
  },
  {
   "cell_type": "code",
   "execution_count": null,
   "id": "b1e464e4",
   "metadata": {},
   "outputs": [],
   "source": []
  }
 ],
 "metadata": {
  "kernelspec": {
   "display_name": "Python 3",
   "language": "python",
   "name": "python3"
  },
  "language_info": {
   "codemirror_mode": {
    "name": "ipython",
    "version": 3
   },
   "file_extension": ".py",
   "mimetype": "text/x-python",
   "name": "python",
   "nbconvert_exporter": "python",
   "pygments_lexer": "ipython3",
   "version": "3.8.8"
  }
 },
 "nbformat": 4,
 "nbformat_minor": 5
}
